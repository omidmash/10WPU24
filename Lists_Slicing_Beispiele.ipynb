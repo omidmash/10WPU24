{
 "cells": [
  {
   "metadata": {},
   "cell_type": "markdown",
   "source": "# List Slicing",
   "id": "4d1ebc292271421d"
  },
  {
   "cell_type": "code",
   "id": "initial_id",
   "metadata": {
    "collapsed": true,
    "ExecuteTime": {
     "end_time": "2025-02-12T10:11:23.235078Z",
     "start_time": "2025-02-12T10:11:23.232280Z"
    }
   },
   "source": [
    "numbers = [2, 4, 6, 8, 10]\n",
    "# print(numbers)\n",
    "# print(numbers[0])\n",
    "# print(numbers[2])\n",
    "# print(numbers[1:4])\n",
    "# print(numbers[-1])\n",
    "print(numbers[1:])"
   ],
   "outputs": [
    {
     "name": "stdout",
     "output_type": "stream",
     "text": [
      "[4, 6, 8, 10]\n"
     ]
    }
   ],
   "execution_count": 6
  },
  {
   "metadata": {
    "ExecuteTime": {
     "end_time": "2025-02-12T10:11:23.252279Z",
     "start_time": "2025-02-12T10:11:23.249668Z"
    }
   },
   "cell_type": "code",
   "source": [
    "cars = ['BMW', 'Audi', 'Mercedes', 'Volvo']\n",
    "print(cars)\n",
    "print(cars[1])\n",
    "print(cars[1:3])\n",
    "print(cars[1:-1])\n",
    "print(cars[0:-1:2])\n",
    "print(cars[1:3:2])"
   ],
   "id": "c827e60b76b2c652",
   "outputs": [
    {
     "name": "stdout",
     "output_type": "stream",
     "text": [
      "['BMW', 'Audi', 'Mercedes', 'Volvo']\n",
      "Audi\n",
      "['Audi', 'Mercedes']\n",
      "['Audi', 'Mercedes']\n",
      "['BMW', 'Mercedes']\n",
      "['Audi']\n"
     ]
    }
   ],
   "execution_count": 7
  },
  {
   "metadata": {
    "ExecuteTime": {
     "end_time": "2025-02-12T10:11:23.272094Z",
     "start_time": "2025-02-12T10:11:23.269545Z"
    }
   },
   "cell_type": "code",
   "source": [
    "lotsofnumbers = list(range(1, 101))\n",
    "print(lotsofnumbers)\n",
    "print(len(lotsofnumbers))\n",
    "print(lotsofnumbers[99])\n",
    "print(lotsofnumbers[1:100:2])\n",
    "print(lotsofnumbers[1:99:2])\n",
    "print(lotsofnumbers[0:100:3])\n",
    "print(lotsofnumbers[:51:4])"
   ],
   "id": "748e8f649a3030ad",
   "outputs": [
    {
     "name": "stdout",
     "output_type": "stream",
     "text": [
      "[1, 2, 3, 4, 5, 6, 7, 8, 9, 10, 11, 12, 13, 14, 15, 16, 17, 18, 19, 20, 21, 22, 23, 24, 25, 26, 27, 28, 29, 30, 31, 32, 33, 34, 35, 36, 37, 38, 39, 40, 41, 42, 43, 44, 45, 46, 47, 48, 49, 50, 51, 52, 53, 54, 55, 56, 57, 58, 59, 60, 61, 62, 63, 64, 65, 66, 67, 68, 69, 70, 71, 72, 73, 74, 75, 76, 77, 78, 79, 80, 81, 82, 83, 84, 85, 86, 87, 88, 89, 90, 91, 92, 93, 94, 95, 96, 97, 98, 99, 100]\n",
      "100\n",
      "100\n",
      "[2, 4, 6, 8, 10, 12, 14, 16, 18, 20, 22, 24, 26, 28, 30, 32, 34, 36, 38, 40, 42, 44, 46, 48, 50, 52, 54, 56, 58, 60, 62, 64, 66, 68, 70, 72, 74, 76, 78, 80, 82, 84, 86, 88, 90, 92, 94, 96, 98, 100]\n",
      "[2, 4, 6, 8, 10, 12, 14, 16, 18, 20, 22, 24, 26, 28, 30, 32, 34, 36, 38, 40, 42, 44, 46, 48, 50, 52, 54, 56, 58, 60, 62, 64, 66, 68, 70, 72, 74, 76, 78, 80, 82, 84, 86, 88, 90, 92, 94, 96, 98]\n",
      "[1, 4, 7, 10, 13, 16, 19, 22, 25, 28, 31, 34, 37, 40, 43, 46, 49, 52, 55, 58, 61, 64, 67, 70, 73, 76, 79, 82, 85, 88, 91, 94, 97, 100]\n",
      "[1, 5, 9, 13, 17, 21, 25, 29, 33, 37, 41, 45, 49]\n"
     ]
    }
   ],
   "execution_count": 8
  },
  {
   "metadata": {
    "ExecuteTime": {
     "end_time": "2025-02-12T10:11:23.290381Z",
     "start_time": "2025-02-12T10:11:23.288158Z"
    }
   },
   "cell_type": "code",
   "source": [
    "fruits = ['banana', 'apple', 'mango', 'grapes', 'pineapple', 'peach']\n",
    "print(fruits)\n",
    "print(fruits[1:3])\n",
    "print(fruits[1::2])\n",
    "print(fruits[0].upper())\n",
    "print(fruits[-1].title())"
   ],
   "id": "6b6903a357a0b6a6",
   "outputs": [
    {
     "name": "stdout",
     "output_type": "stream",
     "text": [
      "['banana', 'apple', 'mango', 'grapes', 'pineapple', 'peach']\n",
      "['apple', 'mango']\n",
      "['apple', 'grapes', 'peach']\n",
      "BANANA\n",
      "Peach\n"
     ]
    }
   ],
   "execution_count": 9
  },
  {
   "metadata": {
    "ExecuteTime": {
     "end_time": "2025-02-12T10:11:23.304442Z",
     "start_time": "2025-02-12T10:11:23.302397Z"
    }
   },
   "cell_type": "code",
   "source": [
    "names = ['max', 'john', 'peter', 'gary', 'michael']\n",
    "print(names)\n",
    "print(\"Hallo \" + names[0].title() + \", wie geht es dir?\")"
   ],
   "id": "19f29e1c4a8c26f9",
   "outputs": [
    {
     "name": "stdout",
     "output_type": "stream",
     "text": [
      "['max', 'john', 'peter', 'gary', 'michael']\n",
      "Hallo Max, wie geht es dir?\n"
     ]
    }
   ],
   "execution_count": 10
  },
  {
   "metadata": {
    "ExecuteTime": {
     "end_time": "2025-02-12T10:11:23.328820Z",
     "start_time": "2025-02-12T10:11:23.327100Z"
    }
   },
   "cell_type": "code",
   "source": "",
   "id": "953a9511c6a6a736",
   "outputs": [],
   "execution_count": null
  }
 ],
 "metadata": {
  "kernelspec": {
   "display_name": "Python 3",
   "language": "python",
   "name": "python3"
  },
  "language_info": {
   "codemirror_mode": {
    "name": "ipython",
    "version": 2
   },
   "file_extension": ".py",
   "mimetype": "text/x-python",
   "name": "python",
   "nbconvert_exporter": "python",
   "pygments_lexer": "ipython2",
   "version": "2.7.6"
  }
 },
 "nbformat": 4,
 "nbformat_minor": 5
}
