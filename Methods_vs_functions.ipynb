{
 "cells": [
  {
   "metadata": {},
   "cell_type": "markdown",
   "source": [
    "# Methods vs Functions\n",
    "Method syntax = .method(args)\n",
    "Function syntax = function(args)"
   ],
   "id": "4795d39125d52e96"
  },
  {
   "cell_type": "code",
   "id": "initial_id",
   "metadata": {
    "collapsed": true,
    "ExecuteTime": {
     "end_time": "2025-02-12T10:00:55.286255Z",
     "start_time": "2025-02-12T10:00:55.282682Z"
    }
   },
   "source": [
    "numbers = [4, 9, 18, 7, 36, 85, 16, 17, 24, 9999, 14, 1, 2, 103, 53, 19]\n",
    "print(sorted(numbers))\n",
    "sorted(numbers) #besser so!\n",
    "numbers.sort() #macht was\n",
    "print(numbers)"
   ],
   "outputs": [
    {
     "name": "stdout",
     "output_type": "stream",
     "text": [
      "[1, 2, 4, 7, 9, 14, 16, 17, 18, 19, 24, 36, 53, 85, 103, 9999]\n",
      "[1, 2, 4, 7, 9, 14, 16, 17, 18, 19, 24, 36, 53, 85, 103, 9999]\n"
     ]
    }
   ],
   "execution_count": 10
  },
  {
   "metadata": {
    "ExecuteTime": {
     "end_time": "2025-02-12T10:03:28.555323Z",
     "start_time": "2025-02-12T10:03:28.553078Z"
    }
   },
   "cell_type": "code",
   "source": [
    "namen = ['max', 'moritz','mohammad', 'penko', 'aaron']\n",
    "print(sorted(namen))\n",
    "sorted(namen)\n",
    "print(\"\\n\")\n",
    "namen.sort()\n",
    "print(namen)"
   ],
   "id": "dca5a27883a5ba7a",
   "outputs": [
    {
     "name": "stdout",
     "output_type": "stream",
     "text": [
      "['aaron', 'max', 'mohammad', 'moritz', 'penko']\n",
      "\n",
      "\n",
      "['aaron', 'max', 'mohammad', 'moritz', 'penko']\n"
     ]
    }
   ],
   "execution_count": 12
  },
  {
   "metadata": {
    "ExecuteTime": {
     "end_time": "2025-02-12T10:06:37.265200Z",
     "start_time": "2025-02-12T10:06:37.261259Z"
    }
   },
   "cell_type": "code",
   "source": [
    "numbers2 = [2, 8, 1, 18, 17, 9]\n",
    "numbers2.sort()\n",
    "print(numbers2)\n",
    "numbers2.reverse()\n",
    "print(numbers2)"
   ],
   "id": "9144b3a67dda87c8",
   "outputs": [
    {
     "name": "stdout",
     "output_type": "stream",
     "text": [
      "[2, 8, 1, 18, 17, 9]\n",
      "[9, 17, 18, 1, 8, 2]\n"
     ]
    }
   ],
   "execution_count": 19
  },
  {
   "metadata": {
    "ExecuteTime": {
     "end_time": "2025-02-12T10:07:34.606285Z",
     "start_time": "2025-02-12T10:07:34.603561Z"
    }
   },
   "cell_type": "code",
   "source": [
    "numbers2 = [2, 8, 1, 18, 17, 9]\n",
    "sorted(numbers2)\n",
    "print(numbers2)\n",
    "numbers2.sort()\n",
    "print(numbers2)"
   ],
   "id": "18be2ba45e696585",
   "outputs": [
    {
     "name": "stdout",
     "output_type": "stream",
     "text": [
      "[2, 8, 1, 18, 17, 9]\n",
      "[1, 2, 8, 9, 17, 18]\n"
     ]
    }
   ],
   "execution_count": 20
  },
  {
   "metadata": {
    "ExecuteTime": {
     "end_time": "2025-02-12T10:08:42.987560Z",
     "start_time": "2025-02-12T10:08:42.984624Z"
    }
   },
   "cell_type": "code",
   "source": [
    "numbers2 = [2, 8, 1, 18, 17, 9]\n",
    "print(numbers2)\n",
    "numbers2.reverse()\n",
    "print(numbers2)\n",
    "numbers2.sort()\n",
    "numbers2.reverse()\n",
    "print(numbers2)"
   ],
   "id": "81c847f3074052a6",
   "outputs": [
    {
     "name": "stdout",
     "output_type": "stream",
     "text": [
      "[2, 8, 1, 18, 17, 9]\n",
      "[9, 17, 18, 1, 8, 2]\n",
      "[18, 17, 9, 8, 2, 1]\n"
     ]
    }
   ],
   "execution_count": 24
  }
 ],
 "metadata": {
  "kernelspec": {
   "display_name": "Python 3",
   "language": "python",
   "name": "python3"
  },
  "language_info": {
   "codemirror_mode": {
    "name": "ipython",
    "version": 2
   },
   "file_extension": ".py",
   "mimetype": "text/x-python",
   "name": "python",
   "nbconvert_exporter": "python",
   "pygments_lexer": "ipython2",
   "version": "2.7.6"
  }
 },
 "nbformat": 4,
 "nbformat_minor": 5
}
