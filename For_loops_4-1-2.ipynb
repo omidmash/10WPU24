{
 "cells": [
  {
   "metadata": {},
   "cell_type": "markdown",
   "source": "# 4-1",
   "id": "9e333f52ece8e37b"
  },
  {
   "metadata": {
    "collapsed": true,
    "ExecuteTime": {
     "end_time": "2025-02-19T10:24:16.438609Z",
     "start_time": "2025-02-19T10:24:16.435235Z"
    }
   },
   "cell_type": "code",
   "source": [
    "pizzas = ['napoli', 'margherita', 'peperoni']\n",
    "for pizza in pizzas:\n",
    "    print(f'I like {pizza} pizza.')\n",
    "print('I really like pizza!')"
   ],
   "id": "initial_id",
   "outputs": [
    {
     "name": "stdout",
     "output_type": "stream",
     "text": [
      "I like napoli pizza.\n",
      "I like margherita pizza.\n",
      "I like peperoni pizza.\n",
      "I really like pizza!\n"
     ]
    }
   ],
   "execution_count": 44
  },
  {
   "metadata": {},
   "cell_type": "markdown",
   "source": "# 4-2",
   "id": "f5c7e1c22b55a169"
  },
  {
   "metadata": {
    "ExecuteTime": {
     "end_time": "2025-02-19T10:24:17.557526Z",
     "start_time": "2025-02-19T10:24:17.554571Z"
    }
   },
   "cell_type": "code",
   "source": [
    "four_legged_animals = ['dog', 'cat', 'rat', 'horse']\n",
    "for four_legged_animal in four_legged_animals:\n",
    "    print(f'A {four_legged_animal} is a four-legged animal.')\n",
    "print('These four-legged animals would make great pets!')"
   ],
   "id": "e2a934f62b2a00ad",
   "outputs": [
    {
     "name": "stdout",
     "output_type": "stream",
     "text": [
      "A dog is a four-legged animal.\n",
      "A cat is a four-legged animal.\n",
      "A rat is a four-legged animal.\n",
      "A horse is a four-legged animal.\n",
      "These four-legged animals would make great pets!\n"
     ]
    }
   ],
   "execution_count": 45
  },
  {
   "metadata": {},
   "cell_type": "markdown",
   "source": "# 4-3",
   "id": "343b2ee26dfd060f"
  },
  {
   "metadata": {
    "ExecuteTime": {
     "end_time": "2025-02-19T10:24:19.120002Z",
     "start_time": "2025-02-19T10:24:19.117661Z"
    }
   },
   "cell_type": "code",
   "source": [
    "for i in range(1, 21):\n",
    "    print(i)"
   ],
   "id": "22eaaa8f7a68cc1b",
   "outputs": [
    {
     "name": "stdout",
     "output_type": "stream",
     "text": [
      "1\n",
      "2\n",
      "3\n",
      "4\n",
      "5\n",
      "6\n",
      "7\n",
      "8\n",
      "9\n",
      "10\n",
      "11\n",
      "12\n",
      "13\n",
      "14\n",
      "15\n",
      "16\n",
      "17\n",
      "18\n",
      "19\n",
      "20\n"
     ]
    }
   ],
   "execution_count": 46
  },
  {
   "metadata": {},
   "cell_type": "markdown",
   "source": "# 4-4",
   "id": "fdb8630b9c634662"
  },
  {
   "metadata": {},
   "cell_type": "code",
   "source": [
    "numbers = list(range(1, 1_000_001))\n",
    "for number in numbers:\n",
    "    print(number)"
   ],
   "id": "b6328f87684a0eb2",
   "outputs": [],
   "execution_count": null
  },
  {
   "metadata": {},
   "cell_type": "markdown",
   "source": "# 4-5",
   "id": "65aaeb2539569527"
  },
  {
   "metadata": {
    "ExecuteTime": {
     "end_time": "2025-02-19T10:24:23.851164Z",
     "start_time": "2025-02-19T10:24:23.807581Z"
    }
   },
   "cell_type": "code",
   "source": [
    "numbers = list(range(1, 1_000_001))\n",
    "print(min(numbers))\n",
    "print(max(numbers))\n",
    "print(sum(numbers))"
   ],
   "id": "8c9c5c06e4ef26c1",
   "outputs": [
    {
     "name": "stdout",
     "output_type": "stream",
     "text": [
      "1\n",
      "1000000\n",
      "500000500000\n"
     ]
    }
   ],
   "execution_count": 47
  },
  {
   "metadata": {},
   "cell_type": "markdown",
   "source": "# 4-6",
   "id": "1efb328c15f4466a"
  },
  {
   "metadata": {
    "ExecuteTime": {
     "end_time": "2025-02-19T10:24:25.940178Z",
     "start_time": "2025-02-19T10:24:25.927265Z"
    }
   },
   "cell_type": "code",
   "source": [
    "numbers = list(range(1,21,2))\n",
    "for number in numbers:\n",
    "    print(number)"
   ],
   "id": "e0c7d483b3dd3ee",
   "outputs": [
    {
     "name": "stdout",
     "output_type": "stream",
     "text": [
      "1\n",
      "3\n",
      "5\n",
      "7\n",
      "9\n",
      "11\n",
      "13\n",
      "15\n",
      "17\n",
      "19\n"
     ]
    }
   ],
   "execution_count": 48
  },
  {
   "metadata": {},
   "cell_type": "markdown",
   "source": "# 4-7",
   "id": "9f5638fd89067573"
  },
  {
   "metadata": {
    "ExecuteTime": {
     "end_time": "2025-02-19T10:24:27.324411Z",
     "start_time": "2025-02-19T10:24:27.320847Z"
    }
   },
   "cell_type": "code",
   "source": [
    "numbers = list(range(3,31))\n",
    "for number in numbers:\n",
    "    print(number * 3)"
   ],
   "id": "5525e6ffece7fc84",
   "outputs": [
    {
     "name": "stdout",
     "output_type": "stream",
     "text": [
      "9\n",
      "12\n",
      "15\n",
      "18\n",
      "21\n",
      "24\n",
      "27\n",
      "30\n",
      "33\n",
      "36\n",
      "39\n",
      "42\n",
      "45\n",
      "48\n",
      "51\n",
      "54\n",
      "57\n",
      "60\n",
      "63\n",
      "66\n",
      "69\n",
      "72\n",
      "75\n",
      "78\n",
      "81\n",
      "84\n",
      "87\n",
      "90\n"
     ]
    }
   ],
   "execution_count": 49
  },
  {
   "metadata": {},
   "cell_type": "markdown",
   "source": "# 4-8",
   "id": "c93ef7ed03d4b7bc"
  },
  {
   "metadata": {
    "ExecuteTime": {
     "end_time": "2025-02-19T10:24:29.313354Z",
     "start_time": "2025-02-19T10:24:29.310466Z"
    }
   },
   "cell_type": "code",
   "source": [
    "numbers = []\n",
    "for number in range(1,11):\n",
    "    numbers.append(number ** 3)\n",
    "for number in numbers:\n",
    "    print(number)"
   ],
   "id": "df5bda2403972f11",
   "outputs": [
    {
     "name": "stdout",
     "output_type": "stream",
     "text": [
      "1\n",
      "8\n",
      "27\n",
      "64\n",
      "125\n",
      "216\n",
      "343\n",
      "512\n",
      "729\n",
      "1000\n"
     ]
    }
   ],
   "execution_count": 50
  },
  {
   "metadata": {},
   "cell_type": "markdown",
   "source": "# 4-9 (List Comprehension, Listennotation)",
   "id": "ccae3dd908b0cd28"
  },
  {
   "metadata": {
    "ExecuteTime": {
     "end_time": "2025-02-19T10:24:32.427612Z",
     "start_time": "2025-02-19T10:24:32.425287Z"
    }
   },
   "cell_type": "code",
   "source": [
    "cubics = [number ** 3 for number in range(1,11)]\n",
    "print(cubics) #freiwillig"
   ],
   "id": "7e77064abdfa7fd4",
   "outputs": [
    {
     "name": "stdout",
     "output_type": "stream",
     "text": [
      "[1, 8, 27, 64, 125, 216, 343, 512, 729, 1000]\n"
     ]
    }
   ],
   "execution_count": 51
  },
  {
   "metadata": {},
   "cell_type": "markdown",
   "source": "# Fares",
   "id": "75a1ccd54726de7a"
  },
  {
   "metadata": {
    "ExecuteTime": {
     "end_time": "2025-02-19T10:24:34.033976Z",
     "start_time": "2025-02-19T10:24:34.031639Z"
    }
   },
   "cell_type": "code",
   "source": [
    "friends = ['max', 'tim', 'david', 'friedrich', 'kevin']\n",
    "friends = friends[::2]\n",
    "for friend in friends:\n",
    "    print(f\"Hi {friend.title()}.\")"
   ],
   "id": "f695478a81215a3e",
   "outputs": [
    {
     "name": "stdout",
     "output_type": "stream",
     "text": [
      "Hi Max.\n",
      "Hi David.\n",
      "Hi Kevin.\n"
     ]
    }
   ],
   "execution_count": 52
  },
  {
   "metadata": {
    "ExecuteTime": {
     "end_time": "2025-02-19T10:24:35.104482Z",
     "start_time": "2025-02-19T10:24:35.101392Z"
    }
   },
   "cell_type": "code",
   "source": [
    "friends = ['max', 'tim', 'david', 'friedrich', 'kevin']\n",
    "for friend in friends[::2]:\n",
    "    print(f\"Hi {friend.title()}.\")"
   ],
   "id": "8741668ab2d7a33f",
   "outputs": [
    {
     "name": "stdout",
     "output_type": "stream",
     "text": [
      "Hi Max.\n",
      "Hi David.\n",
      "Hi Kevin.\n"
     ]
    }
   ],
   "execution_count": 53
  }
 ],
 "metadata": {
  "kernelspec": {
   "display_name": "Python 3",
   "language": "python",
   "name": "python3"
  },
  "language_info": {
   "codemirror_mode": {
    "name": "ipython",
    "version": 2
   },
   "file_extension": ".py",
   "mimetype": "text/x-python",
   "name": "python",
   "nbconvert_exporter": "python",
   "pygments_lexer": "ipython2",
   "version": "2.7.6"
  }
 },
 "nbformat": 4,
 "nbformat_minor": 5
}
