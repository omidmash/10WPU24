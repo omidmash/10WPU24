{
 "cells": [
  {
   "metadata": {},
   "cell_type": "markdown",
   "source": "# 4-10",
   "id": "d03e1234390e54ed"
  },
  {
   "cell_type": "code",
   "id": "initial_id",
   "metadata": {
    "collapsed": true,
    "ExecuteTime": {
     "end_time": "2025-02-26T10:00:51.020277Z",
     "start_time": "2025-02-26T10:00:51.017750Z"
    }
   },
   "source": [
    "pizzas = ['napoli', 'margherita', 'peperoni', 'sucuk', 'tonno']\n",
    "print(\"The first three items in the list are: \")\n",
    "print(pizzas[:3])\n",
    "print(\"\\nThree items from the middle of the list are: \")\n",
    "print(pizzas[1:4])\n",
    "print(\"\\nThe last three items in the list are: \")\n",
    "print(pizzas[-3:])"
   ],
   "outputs": [
    {
     "name": "stdout",
     "output_type": "stream",
     "text": [
      "The first three items in the list are: \n",
      "['napoli', 'margherita', 'peperoni']\n",
      "\n",
      "Three items from the middle of the list are: \n",
      "['margherita', 'peperoni', 'sucuk']\n",
      "\n",
      "The last three items in the list are: \n",
      "['peperoni', 'sucuk', 'tonno']\n"
     ]
    }
   ],
   "execution_count": 15
  },
  {
   "metadata": {},
   "cell_type": "markdown",
   "source": "# 4-11",
   "id": "7bbde5ab518805a7"
  },
  {
   "metadata": {
    "ExecuteTime": {
     "end_time": "2025-02-26T10:01:01.310667Z",
     "start_time": "2025-02-26T10:01:01.306971Z"
    }
   },
   "cell_type": "code",
   "source": [
    "pizzas = ['napoli', 'margherita', 'peperoni']\n",
    "friend_pizzas = ['napoli', 'margherita', 'peperoni']\n",
    "pizzas.append('sucuk')\n",
    "friend_pizzas.append('tonno')\n",
    "\n",
    "print(\"My favorite pizzas are: \")\n",
    "for pizza in pizzas:\n",
    "    print(pizza.title())\n",
    "print(\"\\nMy friend's favorite pizzas are: \")\n",
    "for pizza in friend_pizzas:\n",
    "    print(pizza.title())"
   ],
   "id": "526147ca0a4099a9",
   "outputs": [
    {
     "name": "stdout",
     "output_type": "stream",
     "text": [
      "My favorite pizzas are: \n",
      "Napoli\n",
      "Margherita\n",
      "Peperoni\n",
      "Sucuk\n",
      "\n",
      "My friend's favorite pizzas are: \n",
      "Napoli\n",
      "Margherita\n",
      "Peperoni\n",
      "Tonno\n"
     ]
    }
   ],
   "execution_count": 16
  },
  {
   "metadata": {},
   "cell_type": "markdown",
   "source": "# 4-12",
   "id": "3dddc56d6ffe6ebd"
  },
  {
   "metadata": {
    "ExecuteTime": {
     "end_time": "2025-02-26T10:01:23.692401Z",
     "start_time": "2025-02-26T10:01:23.689714Z"
    }
   },
   "cell_type": "code",
   "source": [
    "# my_foods = ['pizza', 'falafel', 'carrot cake']\n",
    "# friend_foods = my_foods[:]\n",
    "#\n",
    "# print(\"My favorite foods are: \")\n",
    "# print(my_foods)\n",
    "#\n",
    "# print(\"\\nMy friend's favorite foods are: \")\n",
    "# print(friend_foods)\n",
    "\n",
    "my_foods = ['pizza', 'falafel', 'carrot cake']\n",
    "friend_foods = my_foods[:]\n",
    "\n",
    "print(\"My favorite foods are: \")\n",
    "for food in my_foods:\n",
    "    print(food.title())\n",
    "\n",
    "print(\"\\nMy friend's favorite foods are: \")\n",
    "for food in friend_foods:\n",
    "    print(food.title())"
   ],
   "id": "b00154296e05ea45",
   "outputs": [
    {
     "name": "stdout",
     "output_type": "stream",
     "text": [
      "My favorite foods are: \n",
      "Pizza\n",
      "Falafel\n",
      "Carrot Cake\n",
      "\n",
      "My friend's favorite foods are: \n",
      "Pizza\n",
      "Falafel\n",
      "Carrot Cake\n"
     ]
    }
   ],
   "execution_count": 17
  },
  {
   "metadata": {},
   "cell_type": "markdown",
   "source": "# 4-13",
   "id": "7386dad21cd6329c"
  },
  {
   "metadata": {
    "ExecuteTime": {
     "end_time": "2025-02-26T09:51:20.359892Z",
     "start_time": "2025-02-26T09:51:20.355998Z"
    }
   },
   "cell_type": "code",
   "source": [
    "basic_foods = ('lasagna', 'pasta', 'pizza', 'burger', 'salad')\n",
    "print(\"Tuple 1: \")\n",
    "for basic_food in basic_foods:\n",
    "    print(basic_food.title())\n",
    "\n",
    "# basic_foods[0] = 'döner' # ERROR\n",
    "\n",
    "basic_foods = ('lasagna', 'pasta', 'pizza', 'kumpir', 'tacos')\n",
    "print(\"\\nTuple 2: \")\n",
    "for basic_food in basic_foods:\n",
    "    print(basic_food.title())"
   ],
   "id": "cc5a37c59ca1c99",
   "outputs": [
    {
     "name": "stdout",
     "output_type": "stream",
     "text": [
      "Tuple 1: \n",
      "Lasagna\n",
      "Pasta\n",
      "Pizza\n",
      "Burger\n",
      "Salad\n",
      "\n",
      "Tuple 2: \n",
      "Lasagna\n",
      "Pasta\n",
      "Pizza\n",
      "Kumpir\n",
      "Tacos\n"
     ]
    }
   ],
   "execution_count": 13
  }
 ],
 "metadata": {
  "kernelspec": {
   "display_name": "Python 3",
   "language": "python",
   "name": "python3"
  },
  "language_info": {
   "codemirror_mode": {
    "name": "ipython",
    "version": 2
   },
   "file_extension": ".py",
   "mimetype": "text/x-python",
   "name": "python",
   "nbconvert_exporter": "python",
   "pygments_lexer": "ipython2",
   "version": "2.7.6"
  }
 },
 "nbformat": 4,
 "nbformat_minor": 5
}
