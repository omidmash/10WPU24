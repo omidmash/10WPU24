{
 "cells": [
  {
   "metadata": {},
   "cell_type": "markdown",
   "source": "# List Slicing",
   "id": "841654120bad62c2"
  },
  {
   "cell_type": "code",
   "execution_count": null,
   "id": "initial_id",
   "metadata": {
    "collapsed": true
   },
   "outputs": [],
   "source": "numbers = list(range(0, 100))"
  },
  {
   "metadata": {},
   "cell_type": "markdown",
   "source": "## Gerade Zahlen",
   "id": "b439158c443c7c31"
  },
  {
   "metadata": {
    "ExecuteTime": {
     "end_time": "2025-02-12T09:46:50.224750Z",
     "start_time": "2025-02-12T09:46:50.221796Z"
    }
   },
   "cell_type": "code",
   "source": "print(numbers[2::2])",
   "id": "64ad56693c718193",
   "outputs": [
    {
     "name": "stdout",
     "output_type": "stream",
     "text": [
      "[2, 4, 6, 8, 10, 12, 14, 16, 18, 20, 22, 24, 26, 28, 30, 32, 34, 36, 38, 40, 42, 44, 46, 48, 50, 52, 54, 56, 58, 60, 62, 64, 66, 68, 70, 72, 74, 76, 78, 80, 82, 84, 86, 88, 90, 92, 94, 96, 98]\n"
     ]
    }
   ],
   "execution_count": 10
  },
  {
   "metadata": {},
   "cell_type": "markdown",
   "source": "## Ungerade Zahlen",
   "id": "9ab9bbf33bd27f90"
  },
  {
   "metadata": {
    "ExecuteTime": {
     "end_time": "2025-02-12T09:45:54.012134Z",
     "start_time": "2025-02-12T09:45:54.008972Z"
    }
   },
   "cell_type": "code",
   "source": "print(numbers[1::2])",
   "id": "e7fb4b93989219b5",
   "outputs": [
    {
     "name": "stdout",
     "output_type": "stream",
     "text": [
      "[1, 3, 5, 7, 9, 11, 13, 15, 17, 19, 21, 23, 25, 27, 29, 31, 33, 35, 37, 39, 41, 43, 45, 47, 49, 51, 53, 55, 57, 59, 61, 63, 65, 67, 69, 71, 73, 75, 77, 79, 81, 83, 85, 87, 89, 91, 93, 95, 97, 99]\n"
     ]
    }
   ],
   "execution_count": 9
  },
  {
   "metadata": {},
   "cell_type": "markdown",
   "source": "## Perfekt durch 5 teilbar",
   "id": "4e4826e8c1850ace"
  },
  {
   "metadata": {
    "ExecuteTime": {
     "end_time": "2025-02-12T09:46:51.964135Z",
     "start_time": "2025-02-12T09:46:51.960924Z"
    }
   },
   "cell_type": "code",
   "source": "print(numbers[5::5])",
   "id": "194938919c547eff",
   "outputs": [
    {
     "name": "stdout",
     "output_type": "stream",
     "text": [
      "[5, 10, 15, 20, 25, 30, 35, 40, 45, 50, 55, 60, 65, 70, 75, 80, 85, 90, 95]\n"
     ]
    }
   ],
   "execution_count": 11
  }
 ],
 "metadata": {
  "kernelspec": {
   "display_name": "Python 3",
   "language": "python",
   "name": "python3"
  },
  "language_info": {
   "codemirror_mode": {
    "name": "ipython",
    "version": 2
   },
   "file_extension": ".py",
   "mimetype": "text/x-python",
   "name": "python",
   "nbconvert_exporter": "python",
   "pygments_lexer": "ipython2",
   "version": "2.7.6"
  }
 },
 "nbformat": 4,
 "nbformat_minor": 5
}
