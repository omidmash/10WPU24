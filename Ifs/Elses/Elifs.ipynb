{
 "cells": [
  {
   "cell_type": "code",
   "id": "initial_id",
   "metadata": {
    "collapsed": true,
    "ExecuteTime": {
     "end_time": "2025-03-26T09:29:53.644162Z",
     "start_time": "2025-03-26T09:29:53.641296Z"
    }
   },
   "source": [
    "# 0-8 Jahren = Umsonst\n",
    "# 9-18 Jahren = Ermäßigt\n",
    "# 18+ Jahren = Normal\n",
    "# 65+ Jahren = 7 Euro\n",
    "\n",
    "eintritt_senioren = 7\n",
    "eintritt_ermaessigt = 10\n",
    "eintritt_normal = 15\n",
    "eintritt_umsonst = 0\n",
    "\n",
    "age = 32849023849823904893208409823094234\n",
    "\n",
    "if age <= 8:\n",
    "    print(f\"Eintritt: {eintritt_umsonst} Euro\")\n",
    "\n",
    "elif age <= 18:\n",
    "    print(f\"Eintritt: {eintritt_ermaessigt} Euro\")\n",
    "\n",
    "elif age >= 65:\n",
    "    print(f\"Eintritt: {eintritt_senioren} Euro\")\n",
    "\n",
    "else:\n",
    "    print(f\"Eintritt: {eintritt_normal} Euro\")"
   ],
   "outputs": [
    {
     "name": "stdout",
     "output_type": "stream",
     "text": [
      "Eintritt: 7 Euro\n"
     ]
    }
   ],
   "execution_count": 36
  }
 ],
 "metadata": {
  "kernelspec": {
   "display_name": "Python 3",
   "language": "python",
   "name": "python3"
  },
  "language_info": {
   "codemirror_mode": {
    "name": "ipython",
    "version": 2
   },
   "file_extension": ".py",
   "mimetype": "text/x-python",
   "name": "python",
   "nbconvert_exporter": "python",
   "pygments_lexer": "ipython2",
   "version": "2.7.6"
  }
 },
 "nbformat": 4,
 "nbformat_minor": 5
}
