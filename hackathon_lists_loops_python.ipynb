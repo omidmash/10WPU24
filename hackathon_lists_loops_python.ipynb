{
 "cells": [
  {
   "metadata": {},
   "cell_type": "markdown",
   "source": [
    "## 1. Liste der Quadratzahlen\n",
    "Schreibe ein Programm, das eine Liste von Ganzzahlen als Eingabe nimmt und eine neue Liste mit den Quadraten dieser Zahlen erstellt. Verwende dafür eine `for`-Schleife.\n",
    "\n",
    "**Beispiel:**\n",
    "```python\n",
    "Input: [1, 2, 3, 4]\n",
    "Output: [1, 4, 9, 16]\n",
    "```\n"
   ],
   "id": "2e428325c99d1d6e"
  },
  {
   "cell_type": "code",
   "id": "initial_id",
   "metadata": {
    "collapsed": true,
    "ExecuteTime": {
     "end_time": "2025-03-26T09:05:46.091041Z",
     "start_time": "2025-03-26T09:05:46.088235Z"
    }
   },
   "source": [
    "numbers = [1, 2, 3, 4, 5, 6, 7, 8, 9, 10]\n",
    "quadraten = []\n",
    "for number in numbers:\n",
    "    quadraten.append(number ** 2)\n",
    "print(quadraten)"
   ],
   "outputs": [
    {
     "name": "stdout",
     "output_type": "stream",
     "text": [
      "[1, 4, 9, 16, 25, 36, 49, 64, 81, 100]\n"
     ]
    }
   ],
   "execution_count": 2
  },
  {
   "metadata": {},
   "cell_type": "markdown",
   "source": [
    "## 2. Tupel der Summen\n",
    "Erstelle eine Liste von Tupeln, bei der jedes Tupel zwei Ganzzahlen enthält. Schreibe eine Funktion, die die Summe jedes Tupels berechnet und die Summen in einer Liste zurückgibt. Verwende eine `for`-Schleife, um durch die Tupel zu iterieren.\n",
    "\n",
    "**Beispiel:**\n",
    "```python\n",
    "Input: [(1, 2), (3, 4), (5, 6)]\n",
    "Output: [3, 7, 11]\n",
    "```"
   ],
   "id": "86996d29fc449718"
  },
  {
   "metadata": {
    "ExecuteTime": {
     "end_time": "2025-03-26T09:08:00.820393Z",
     "start_time": "2025-03-26T09:08:00.817516Z"
    }
   },
   "cell_type": "code",
   "source": [
    "tupel_liste = [(1, 2), (3, 4), (5, 6)]\n",
    "summen = []\n",
    "for tupel in tupel_liste:\n",
    "    summen.append(sum(tupel))\n",
    "print(summen)"
   ],
   "id": "da9a32d345010846",
   "outputs": [
    {
     "name": "stdout",
     "output_type": "stream",
     "text": [
      "[3, 7, 11]\n"
     ]
    }
   ],
   "execution_count": 3
  },
  {
   "metadata": {},
   "cell_type": "markdown",
   "source": [
    "## 3. Durchschnittswerte aus Listen\n",
    "Schreibe ein Programm, das eine Liste von Listen von Ganzzahlen als Eingabe nimmt. Berechne den Durchschnitt jeder inneren Liste und speichere die Durchschnittswerte in einer neuen Liste. Verwende `for`-Schleifen.\n",
    "\n",
    "**Beispiel:**\n",
    "```python\n",
    "Input: [[1, 2, 3], [4, 5], [6, 7, 8, 9]]\n",
    "Output: [2.0, 4.5, 7.5]\n",
    "```"
   ],
   "id": "b7faec3f61ad804d"
  },
  {
   "metadata": {
    "ExecuteTime": {
     "end_time": "2025-03-26T09:12:24.873074Z",
     "start_time": "2025-03-26T09:12:24.870274Z"
    }
   },
   "cell_type": "code",
   "source": [
    "list_of_lists = [[15, 12, 13], [0, 2, 8]]\n",
    "averages = []\n",
    "for i in list_of_lists:\n",
    "    averages.append(sum(i) / len(i))\n",
    "print(averages)"
   ],
   "id": "eedaf900c4b1c073",
   "outputs": [
    {
     "name": "stdout",
     "output_type": "stream",
     "text": [
      "[13.333333333333334, 3.3333333333333335]\n"
     ]
    }
   ],
   "execution_count": 6
  },
  {
   "metadata": {},
   "cell_type": "markdown",
   "source": [
    "## Bonusfrage: Fibonacci\n",
    "Schreibe ein Programm, das die ersten `n` Fibonacci-Zahlen in einer Liste zurückgibt. Nutze eine `for`-Schleife, um die Zahlen zu berechnen.\n",
    "\n",
    "**Beispiel:**\n",
    "```python\n",
    "Input: 6\n",
    "Output: [0, 1, 1, 2, 3, 5]\n",
    "```"
   ],
   "id": "7f7fcc363c9211e6"
  },
  {
   "metadata": {
    "ExecuteTime": {
     "end_time": "2025-03-26T09:15:49.925671Z",
     "start_time": "2025-03-26T09:15:49.923546Z"
    }
   },
   "cell_type": "code",
   "source": [
    "fibonaccis = [0, 1]\n",
    "n = 20\n",
    "for fibonacci in range(n - 2):\n",
    "    fibonaccis.append(fibonaccis[-1] + fibonaccis[-2])\n",
    "print(fibonaccis)"
   ],
   "id": "d3cea256af2d4bf0",
   "outputs": [
    {
     "name": "stdout",
     "output_type": "stream",
     "text": [
      "[0, 1, 1, 2, 3, 5, 8, 13, 21, 34, 55, 89, 144, 233, 377, 610, 987, 1597, 2584, 4181]\n"
     ]
    }
   ],
   "execution_count": 9
  }
 ],
 "metadata": {
  "kernelspec": {
   "display_name": "Python 3",
   "language": "python",
   "name": "python3"
  },
  "language_info": {
   "codemirror_mode": {
    "name": "ipython",
    "version": 2
   },
   "file_extension": ".py",
   "mimetype": "text/x-python",
   "name": "python",
   "nbconvert_exporter": "python",
   "pygments_lexer": "ipython2",
   "version": "2.7.6"
  }
 },
 "nbformat": 4,
 "nbformat_minor": 5
}
